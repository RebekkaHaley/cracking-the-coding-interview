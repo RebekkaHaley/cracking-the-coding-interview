{
 "cells": [
  {
   "cell_type": "markdown",
   "metadata": {},
   "source": [
    "# Cracking the Coding Interview\n",
    "\n",
    "Resources:\n",
    "- ...\n"
   ]
  },
  {
   "cell_type": "markdown",
   "metadata": {},
   "source": [
    "## Imports"
   ]
  },
  {
   "cell_type": "code",
   "execution_count": null,
   "metadata": {},
   "outputs": [],
   "source": [
    "# Libraries\n",
    "import sys\n",
    "import timeit\n",
    "import numpy as np\n",
    "import matplotlib.pyplot as plt\n",
    "\n",
    "# Scripts\n",
    "from big_o import binary_search\n"
   ]
  },
  {
   "cell_type": "markdown",
   "metadata": {},
   "source": [
    "## Big O Notation\n"
   ]
  },
  {
   "cell_type": "code",
   "execution_count": null,
   "metadata": {},
   "outputs": [],
   "source": [
    "# Plot big o for binary_search():\n",
    "setup_string = f'''\n",
    "import numpy as np\n",
    "from big_o import binary_search\n",
    "from __main__ import test_array, test_target_num\n",
    "'''\n",
    "code_string = '''\n",
    "binary_search(array=test_array, target_num=test_target_num)\n",
    "'''\n",
    "x_axis = np.linspace(start=10, stop=9000, num=100).round(0)\n",
    "y_axis = []\n",
    "for x in x_axis:\n",
    "    test_array = sorted(np.random.rand(int(x)).round(6))\n",
    "    test_target_num = test_array[-1]\n",
    "    time_result = np.median(timeit.repeat(stmt=code_string, setup=setup_string, number=10000))/10000\n",
    "    y_axis.append(time_result)\n",
    "plt.plot(x_axis, y_axis)\n",
    "plt.plot(x_axis, np.log(x_axis)/3000000)  # Plot of log(n)\n"
   ]
  },
  {
   "cell_type": "code",
   "execution_count": null,
   "metadata": {},
   "outputs": [],
   "source": []
  }
 ],
 "metadata": {
  "kernelspec": {
   "display_name": "Python 3.10.6 ('cracking-the-coding-interview-Z6NRNZbg-py3.10')",
   "language": "python",
   "name": "python3"
  },
  "language_info": {
   "codemirror_mode": {
    "name": "ipython",
    "version": 3
   },
   "file_extension": ".py",
   "mimetype": "text/x-python",
   "name": "python",
   "nbconvert_exporter": "python",
   "pygments_lexer": "ipython3",
   "version": "3.10.6"
  },
  "orig_nbformat": 4,
  "vscode": {
   "interpreter": {
    "hash": "715491fab17afe76f425f629e31e7871de08c5bc082e33ee3db84cef1837bb0e"
   }
  }
 },
 "nbformat": 4,
 "nbformat_minor": 2
}

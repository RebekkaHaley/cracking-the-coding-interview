{
 "cells": [
  {
   "cell_type": "markdown",
   "metadata": {},
   "source": [
    "# Cracking the Coding Interview\n",
    "\n",
    "Resources:\n",
    "- ...\n"
   ]
  },
  {
   "cell_type": "markdown",
   "metadata": {},
   "source": [
    "## Imports"
   ]
  },
  {
   "cell_type": "code",
   "execution_count": null,
   "metadata": {},
   "outputs": [],
   "source": [
    "# Libraries\n",
    "import sys\n",
    "import random\n",
    "import string\n",
    "import timeit\n",
    "import numpy as np\n",
    "import matplotlib.pyplot as plt\n",
    "from scipy.optimize import curve_fit\n",
    "\n",
    "# Scripts\n",
    "from big_o import binary_search, recursion_example, log_n_example, permutation\n",
    "from curve_fit_functions import log_func, exp_func, lin_func\n"
   ]
  },
  {
   "cell_type": "markdown",
   "metadata": {},
   "source": [
    "## Big O Notation\n"
   ]
  },
  {
   "cell_type": "code",
   "execution_count": null,
   "metadata": {},
   "outputs": [],
   "source": [
    "# Plot big o for binary_search():\n",
    "setup_string = f'''\n",
    "import numpy as np\n",
    "from big_o import binary_search\n",
    "from __main__ import test_array, test_target_num\n",
    "'''\n",
    "code_string = '''\n",
    "binary_search(array=test_array, target_num=test_target_num)\n",
    "'''\n",
    "x_axis = np.linspace(start=10, stop=9000, num=100).round(0)\n",
    "y_axis = []\n",
    "for x in x_axis:\n",
    "    test_array = sorted(np.random.rand(int(x)).round(6))\n",
    "    test_target_num = test_array[-1]\n",
    "    time_result = np.median(timeit.repeat(stmt=code_string, setup=setup_string, number=10000))\n",
    "    y_axis.append(time_result)\n",
    "plt.plot(x_axis, y_axis)\n",
    "\n",
    "# Plot of O(log n):\n",
    "fitted_params, pcov = curve_fit(log_func, x_axis, y_axis, np.array([.1, .1, .2]))\n",
    "plt.plot(x_axis, log_func(x=x_axis, a=fitted_params[0], b=fitted_params[1], c=fitted_params[2]))\n",
    "\n",
    "plt.show()\n"
   ]
  },
  {
   "cell_type": "code",
   "execution_count": null,
   "metadata": {},
   "outputs": [],
   "source": [
    "# Plot big o for recursion_example():\n",
    "setup_string = '''from big_o import recursion_example'''\n",
    "x_axis = np.linspace(start=1, stop=8, num=8).round(0)\n",
    "y_axis = []\n",
    "for x in x_axis:\n",
    "    time_result = np.median(timeit.repeat(stmt=f'recursion_example(number={x})', setup=setup_string, number=10000))\n",
    "    y_axis.append(time_result)\n",
    "plt.plot(x_axis, y_axis)\n",
    "\n",
    "# Plot of O(2**n):\n",
    "fitted_params, pcov = curve_fit(exp_func, x_axis, y_axis, np.array([1, 1e-6, 1]))\n",
    "plt.plot(x_axis, exp_func(x=x_axis, a=fitted_params[0], b=fitted_params[1], c=fitted_params[2]))\n",
    "\n",
    "plt.show()\n"
   ]
  },
  {
   "cell_type": "code",
   "execution_count": null,
   "metadata": {},
   "outputs": [],
   "source": [
    "# Plot big o for log_n_example():\n",
    "setup_string = '''\n",
    "from big_o import log_n_example\n",
    "from __main__ import test_numbers\n",
    "'''\n",
    "x_axis = np.linspace(start=1, stop=100, num=20).round(0)\n",
    "y_axis = []\n",
    "for x in x_axis:\n",
    "    test_numbers = np.random.rand(int(x))*10\n",
    "    test_numbers = test_numbers.round(0)\n",
    "    time_result = np.median(timeit.repeat(stmt=f'log_n_example(numbers=test_numbers)', setup=setup_string, number=10000))\n",
    "    y_axis.append(time_result)\n",
    "plt.plot(x_axis, y_axis)\n",
    "\n",
    "# Plot of O(n):\n",
    "fitted_params, pcov = curve_fit(lin_func, x_axis, y_axis, np.array([1, 1]))\n",
    "plt.plot(x_axis, lin_func(x=x_axis, a=fitted_params[0], b=fitted_params[1]))\n",
    "\n",
    "plt.show()\n"
   ]
  },
  {
   "cell_type": "code",
   "execution_count": null,
   "metadata": {},
   "outputs": [],
   "source": [
    "# Plot big o for permutation():\n",
    "setup_string = '''\n",
    "from big_o import permutation\n",
    "'''\n",
    "x_axis = np.linspace(start=1, stop=5, num=5).round(0)\n",
    "y_axis = []\n",
    "for x in x_axis:\n",
    "    test_string = ''.join(random.choice(string.ascii_lowercase) for i in range(int(x)))\n",
    "    time_result = np.median(timeit.repeat(stmt=f\"permutation(string='{test_string}', prefix='', show_print=False)\", setup=setup_string, number=10000))\n",
    "    y_axis.append(time_result)\n",
    "plt.plot(x_axis, y_axis)\n",
    "\n",
    "# Plot of O((n + 2)!):\n",
    "# todo\n",
    "\n",
    "plt.show()\n"
   ]
  },
  {
   "cell_type": "code",
   "execution_count": null,
   "metadata": {},
   "outputs": [],
   "source": []
  }
 ],
 "metadata": {
  "kernelspec": {
   "display_name": "Python 3 (ipykernel)",
   "language": "python",
   "name": "python3"
  },
  "language_info": {
   "codemirror_mode": {
    "name": "ipython",
    "version": 3
   },
   "file_extension": ".py",
   "mimetype": "text/x-python",
   "name": "python",
   "nbconvert_exporter": "python",
   "pygments_lexer": "ipython3",
   "version": "3.10.6"
  },
  "vscode": {
   "interpreter": {
    "hash": "715491fab17afe76f425f629e31e7871de08c5bc082e33ee3db84cef1837bb0e"
   }
  }
 },
 "nbformat": 4,
 "nbformat_minor": 2
}

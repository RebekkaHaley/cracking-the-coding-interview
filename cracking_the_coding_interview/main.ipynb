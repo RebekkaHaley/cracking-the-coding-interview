{
 "cells": [
  {
   "cell_type": "markdown",
   "metadata": {},
   "source": [
    "# Cracking the Coding Interview\n"
   ]
  },
  {
   "cell_type": "markdown",
   "metadata": {},
   "source": [
    "## Imports"
   ]
  },
  {
   "cell_type": "code",
   "execution_count": null,
   "metadata": {},
   "outputs": [],
   "source": [
    "# Libraries\n",
    "import sys\n",
    "import random\n",
    "import string\n",
    "import timeit\n",
    "import numpy as np\n",
    "import matplotlib.pyplot as plt\n",
    "from scipy.optimize import curve_fit\n",
    "\n",
    "# Scripts\n",
    "from big_o import (\n",
    "    binary_search,\n",
    "    recursion_example,\n",
    "    sum_and_product,\n",
    "    permutation,\n",
    "    fibonacci_seq,\n",
    "    fibonacci_seq_memoized)\n",
    "from curve_fit_functions import log_func, exp_func, lin_func\n",
    "from arrays_and_strings import (\n",
    "    are_all_chars_unique)\n"
   ]
  },
  {
   "cell_type": "markdown",
   "metadata": {},
   "source": [
    "## Chapter VI: Big O\n"
   ]
  },
  {
   "cell_type": "code",
   "execution_count": null,
   "metadata": {},
   "outputs": [],
   "source": [
    "N=35  # number of iterations for plot.\n",
    "\n",
    "# Plot big o for binary_search():\n",
    "setup_string = f'''\n",
    "import numpy as np\n",
    "from big_o import binary_search\n",
    "from __main__ import test_array, test_target_num\n",
    "'''\n",
    "code_string = '''\n",
    "binary_search(array=test_array, target_num=test_target_num)\n",
    "'''\n",
    "x_axis = np.linspace(start=10, stop=10000, num=N).round(0)\n",
    "y_axis = []\n",
    "for x in x_axis:\n",
    "    test_array = sorted(np.random.rand(int(x)).round(6))\n",
    "    test_target_num = test_array[-1]\n",
    "    time_result = np.median(timeit.repeat(stmt=code_string, setup=setup_string, number=10000))\n",
    "    y_axis.append(time_result)\n",
    "plt.plot(x_axis, y_axis, label='binary_search')\n",
    "\n",
    "# Plot of O(log n):\n",
    "fitted_params, pcov = curve_fit(log_func, x_axis, y_axis, np.array([.1, .1, .2]))\n",
    "plt.plot(x_axis, log_func(x=x_axis, a=fitted_params[0], b=fitted_params[1], c=fitted_params[2]), label='O(log n)')\n",
    "\n",
    "plt.legend()\n",
    "plt.show()\n"
   ]
  },
  {
   "cell_type": "code",
   "execution_count": null,
   "metadata": {},
   "outputs": [],
   "source": [
    "N=8  # number of iterations for plot.\n",
    "\n",
    "# Plot big o for recursion_example():\n",
    "setup_string = '''from big_o import recursion_example'''\n",
    "x_axis = np.linspace(start=1, stop=N, num=N).round(0)\n",
    "y_axis = []\n",
    "for x in x_axis:\n",
    "    time_result = np.median(timeit.repeat(stmt=f'recursion_example(number={x})', setup=setup_string, number=10000))\n",
    "    y_axis.append(time_result)\n",
    "plt.plot(x_axis, y_axis, label='recursion_example')\n",
    "\n",
    "# Plot of O(2**n):\n",
    "fitted_params, pcov = curve_fit(exp_func, x_axis, y_axis, np.array([1, 1e-6, 1]))\n",
    "plt.plot(x_axis, exp_func(x=x_axis, a=fitted_params[0], b=fitted_params[1], c=fitted_params[2]), label='O(2**n)')\n",
    "\n",
    "plt.legend()\n",
    "plt.show()\n"
   ]
  },
  {
   "cell_type": "code",
   "execution_count": null,
   "metadata": {},
   "outputs": [],
   "source": [
    "N=10  # number of iterations for plot.\n",
    "\n",
    "# Plot big o for sum_and_product():\n",
    "setup_string = '''\n",
    "from big_o import sum_and_product\n",
    "from __main__ import test_numbers\n",
    "'''\n",
    "x_axis = np.linspace(start=1, stop=80, num=N).round(0)\n",
    "y_axis = []\n",
    "for x in x_axis:\n",
    "    test_numbers = np.random.rand(int(x))*10\n",
    "    test_numbers = test_numbers.round(0)\n",
    "    time_result = np.median(timeit.repeat(stmt=f'sum_and_product(numbers=test_numbers)', setup=setup_string, number=10000))\n",
    "    y_axis.append(time_result)\n",
    "plt.plot(x_axis, y_axis, label='sum_and_product')\n",
    "\n",
    "# Plot of O(n):\n",
    "fitted_params, pcov = curve_fit(lin_func, x_axis, y_axis, np.array([1, 1]))\n",
    "plt.plot(x_axis, lin_func(x=x_axis, a=fitted_params[0], b=fitted_params[1]), label='O(n)')\n",
    "\n",
    "plt.legend()\n",
    "plt.show()\n"
   ]
  },
  {
   "cell_type": "code",
   "execution_count": null,
   "metadata": {},
   "outputs": [],
   "source": [
    "N=5  # number of iterations for plot.\n",
    "\n",
    "# Plot big o for permutation():\n",
    "setup_string = '''\n",
    "from big_o import permutation\n",
    "'''\n",
    "x_axis = np.linspace(start=1, stop=N, num=N).round(0)\n",
    "y_axis = []\n",
    "for x in x_axis:\n",
    "    test_string = ''.join(random.choice(string.ascii_lowercase) for i in range(int(x)))\n",
    "    time_result = np.median(timeit.repeat(stmt=f\"permutation(string='{test_string}', prefix='', show_print=False)\", setup=setup_string, number=10000))\n",
    "    y_axis.append(time_result)\n",
    "plt.plot(x_axis, y_axis, label='permutation')\n",
    "\n",
    "# Plot of O((n + 2)!):\n",
    "# todo\n",
    "\n",
    "plt.legend()\n",
    "plt.show()\n"
   ]
  },
  {
   "cell_type": "code",
   "execution_count": null,
   "metadata": {},
   "outputs": [],
   "source": [
    "# Compare using no Memoization vs Memoization\n",
    "\n",
    "N=8  # number of iterations for plot.\n",
    "\n",
    "# Plot big o for No Memoization i.e., fibonacci_seq():\n",
    "setup_string = '''\n",
    "from big_o import fibonacci_seq\n",
    "'''\n",
    "x_axis = np.linspace(start=1, stop=N, num=N).round(0)\n",
    "y_axis = []\n",
    "for x in x_axis:\n",
    "    time_result = np.median(timeit.repeat(stmt=f\"fibonacci_seq(number={int(x)})\", setup=setup_string, number=10000))\n",
    "    y_axis.append(time_result)\n",
    "plt.plot(x_axis, y_axis, label='No Memoization')\n",
    "\n",
    "# Plot big o for Memoization i.e., fibonacci_seq_memoized():\n",
    "setup_string = '''\n",
    "from big_o import fibonacci_seq_memoized\n",
    "'''\n",
    "x_axis = np.linspace(start=1, stop=N, num=N).round(0)\n",
    "y_axis = []\n",
    "for x in x_axis:\n",
    "    time_result = np.median(timeit.repeat(stmt=f\"fibonacci_seq_memoized(number={int(x)})\", setup=setup_string, number=10000))\n",
    "    y_axis.append(time_result)\n",
    "plt.plot(x_axis, y_axis, label='Memoization')\n",
    "\n",
    "plt.legend()\n",
    "plt.show()\n"
   ]
  },
  {
   "cell_type": "markdown",
   "metadata": {},
   "source": [
    "## Chapter IX: Interview Questions\n"
   ]
  },
  {
   "cell_type": "markdown",
   "metadata": {},
   "source": [
    "### Data Sctructures"
   ]
  },
  {
   "cell_type": "markdown",
   "metadata": {},
   "source": [
    "### 1. Arrays and Strings\n",
    "\n",
    "The book treats questions on arrays and strings as interchangeable.\n",
    "\n",
    "##### Hash Tables\n",
    "- A hash table maps keys to values for highly efficient lookup.\n",
    "- A simple implementation is to use an array of linked lists and a hash code function.\n",
    "    - To insert a key and value we:\n",
    "    1. Compute the key's hash code, which is usually an `int`. Two keys may have the same hash code, since there are infinite keys but finite `int`.\n",
    "    2. Map the hash code to an index in the array. It is possible for two different hash codes to be mapped to the same index.\n",
    "    3. At the index, there is a linked list of keys and values. Store the key-value pair here. Linked lists are used due to possible collisions: two different keys with same hash code, or two different hash codes mapping to same index.\n",
    "- If the number of collisions is ***low*** then the runtime is $O(1)$.\n",
    "- If the number of collisions is ***high*** then the worst case runtime is $O(N)$, where $N$ is the number of keys.\n",
    "- Another implementation is to use a lookup system with a balanced binary search tree. This gives a runtime of $O(\\log N)$. This also uses less storage space.\n",
    "- E.g., Python's `dict`.\n",
    "\n",
    "##### ArrayList & Resizable Arrays\n",
    "- An automatically resizable array is also known as a `list` or an `ArrayList`.\n",
    "- A `list` can grow as you append items, whereas the size of an `array` cannot be changed (e.g., like in Java).\n",
    "- A `list` allows resizing while maintaining a lookup runtime of $O(1)$.\n",
    "- A typical implementation is that the `list` will double in size (or increase by another value) when full.\n",
    "- Resizing takes a runtime of $O(N)$. However, it happens so rarely that the amortized insertion runtime remains $O(1)$.\n",
    "- E.g., Python's `list`.\n",
    "\n",
    "##### StringBuilder\n",
    "- A `StringBuilder` is used to avoid a runtime of $O(xn^2)$ when concatenating a list of strings.\n",
    "- ...\n"
   ]
  },
  {
   "cell_type": "code",
   "execution_count": null,
   "metadata": {},
   "outputs": [],
   "source": [
    "# Question 1.1\n",
    "\n",
    "display(\n",
    "    are_all_chars_unique(string='hello'),\n",
    "    are_all_chars_unique(string='helo'))\n"
   ]
  },
  {
   "cell_type": "code",
   "execution_count": null,
   "metadata": {},
   "outputs": [],
   "source": [
    "# Question 1.2\n"
   ]
  }
 ],
 "metadata": {
  "kernelspec": {
   "display_name": "Python 3 (ipykernel)",
   "language": "python",
   "name": "python3"
  },
  "language_info": {
   "codemirror_mode": {
    "name": "ipython",
    "version": 3
   },
   "file_extension": ".py",
   "mimetype": "text/x-python",
   "name": "python",
   "nbconvert_exporter": "python",
   "pygments_lexer": "ipython3",
   "version": "3.10.6"
  },
  "vscode": {
   "interpreter": {
    "hash": "715491fab17afe76f425f629e31e7871de08c5bc082e33ee3db84cef1837bb0e"
   }
  }
 },
 "nbformat": 4,
 "nbformat_minor": 2
}

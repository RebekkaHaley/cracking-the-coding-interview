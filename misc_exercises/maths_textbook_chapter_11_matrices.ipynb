{
 "cells": [
  {
   "cell_type": "markdown",
   "metadata": {},
   "source": [
    "# 11.3 Solving simultaneous equations in two unknowns\n",
    "\n",
    "Resources:\n",
    "- [Matplotlib: Plot a Function y=f(x)](https://scriptverse.academy/tutorials/python-matplotlib-plot-function.html)\n"
   ]
  },
  {
   "cell_type": "markdown",
   "metadata": {},
   "source": [
    "## Imports\n"
   ]
  },
  {
   "cell_type": "code",
   "execution_count": null,
   "metadata": {},
   "outputs": [],
   "source": [
    "# Libraries\n",
    "import math\n",
    "import numpy as np\n",
    "import matplotlib.pyplot as plt\n",
    "from matplotlib.pyplot import cm\n",
    "from fractions import Fraction\n"
   ]
  },
  {
   "cell_type": "markdown",
   "metadata": {},
   "source": [
    "## Exercise 3 Question 4\n"
   ]
  },
  {
   "cell_type": "code",
   "execution_count": null,
   "metadata": {
    "scrolled": true
   },
   "outputs": [],
   "source": [
    "def plot_simultaneous_equations_2x2(matrix_x, matrix_y):\n",
    "    \"\"\"...\"\"\"\n",
    "    # set up axes at the centre\n",
    "    fig = plt.figure()\n",
    "    ax = fig.add_subplot(1, 1, 1)\n",
    "    ax.spines['left'].set_position('center')\n",
    "    ax.spines['bottom'].set_position('zero')\n",
    "    ax.spines['right'].set_color('none')\n",
    "    ax.spines['top'].set_color('none')\n",
    "    ax.xaxis.set_ticks_position('bottom')\n",
    "    ax.yaxis.set_ticks_position('left')\n",
    "    # iterate over each equation\n",
    "    for i, (point_x, point_y) in enumerate(matrix_x):\n",
    "        # extract y-intercept\n",
    "        y_intercept = matrix_y[i][0]\n",
    "        # define 100 linearly spaced numbers\n",
    "        x = np.linspace(-5,5,100)\n",
    "        # define function\n",
    "        y = ((-point_x*x)/point_y) + (matrix_y[i][0]/point_y)\n",
    "        # plot function\n",
    "        plt.plot(x, y, 'r')\n",
    "    # show both functions\n",
    "    plt.show()\n",
    "\n",
    "\n",
    "# plot_simultaneous_equations_2x2(\n",
    "#     matrix_x=np.array([[3, 2],[6, -4]]),\n",
    "#     matrix_y=np.array([[-7],[14]]))\n",
    "\n",
    "# plot_simultaneous_equations_2x2(\n",
    "#     matrix_x=np.array([[8, 7],[3, -8]]),\n",
    "#     matrix_y=np.array([[15],[13]]))\n",
    "\n",
    "# plot_simultaneous_equations_2x2(\n",
    "#     matrix_x=np.array([[-2, 1],[-4, 2]]),\n",
    "#     matrix_y=np.array([[-5],[-10]]))\n",
    "\n",
    "plot_simultaneous_equations_2x2(\n",
    "    matrix_x=np.array([[-2, 1],[-4, 2]]),\n",
    "    matrix_y=np.array([[0],[-10]]))\n"
   ]
  },
  {
   "cell_type": "markdown",
   "metadata": {},
   "source": [
    "## Exercise 3 Question 4\n"
   ]
  },
  {
   "cell_type": "code",
   "execution_count": null,
   "metadata": {
    "scrolled": true
   },
   "outputs": [],
   "source": [
    "def plot_simultaneous_equations_example():\n",
    "    \"\"\"\n",
    "    Plots the equations of:\n",
    "     y1 = (5 + x) / (3*k - 1)\n",
    "     y2 = ((k + 1)*x + 11) / 4\n",
    "    Shows unique solutions except where k=1 or k=-5/3.\n",
    "    This is because y1 and y2 move in relation to one another\n",
    "     due to common k.\n",
    "    \"\"\"\n",
    "    # iterate over each value of k\n",
    "    ks = [-(5/3), -1, 0, 1]\n",
    "    colours = cm.rainbow(np.linspace(0, 1, len(ks)))\n",
    "    for k, c in zip(ks, colours):\n",
    "        # set up axes at the centre\n",
    "        fig = plt.figure()\n",
    "        ax = fig.add_subplot(1, 1, 1)\n",
    "        ax.spines['left'].set_position('center')\n",
    "        ax.spines['bottom'].set_position('zero')\n",
    "        ax.spines['right'].set_color('none')\n",
    "        ax.spines['top'].set_color('none')\n",
    "        ax.xaxis.set_ticks_position('bottom')\n",
    "        ax.yaxis.set_ticks_position('left')\n",
    "        # define 100 linearly spaced numbers\n",
    "        x = np.linspace(-20,20,100)\n",
    "        # define two equations in terms of x and k\n",
    "        y_1 = (5+x)/(3*k-1)\n",
    "        y_2 = (((k+1)*x)+11)/4\n",
    "        # plot function\n",
    "        plt.plot(x, y_1, c=c)\n",
    "        plt.plot(x, y_2, c=c)\n",
    "        # show both functions\n",
    "        plt.show()\n",
    "\n",
    "\n",
    "# plot_simultaneous_equations_example()\n"
   ]
  },
  {
   "cell_type": "markdown",
   "metadata": {},
   "source": [
    "## Exercise 3 Question 5\n"
   ]
  },
  {
   "cell_type": "code",
   "execution_count": null,
   "metadata": {
    "scrolled": true
   },
   "outputs": [],
   "source": [
    "def plot_simultaneous_equations_2x2_general(ys, ks, size=20):\n",
    "    \"\"\"\n",
    "    Takes in pre-defined lambda equations in terms of x and k for each y in ys.\n",
    "    Plots possible solutions for each k in ks.\n",
    "    This is because y1 and y2 move in relation to one another\n",
    "     due to common k.\n",
    "    \"\"\"\n",
    "    # iterate over each value of k\n",
    "    colours = cm.rainbow(np.linspace(0, 1, len(ks)))\n",
    "    for k, c in zip(ks, colours):\n",
    "        # set up axes at the centre\n",
    "        fig = plt.figure()\n",
    "        ax = fig.add_subplot(1, 1, 1)\n",
    "        ax.spines['left'].set_position('center')\n",
    "        ax.spines['bottom'].set_position('zero')\n",
    "        ax.spines['right'].set_color('none')\n",
    "        ax.spines['top'].set_color('none')\n",
    "        ax.xaxis.set_ticks_position('bottom')\n",
    "        ax.yaxis.set_ticks_position('left')\n",
    "        # define 100 linearly spaced numbers\n",
    "        x = np.linspace(-size,size,100)\n",
    "        # plot function\n",
    "        for y in ys:\n",
    "            plt.plot(x, y(x, k), c=c)\n",
    "        # show both functions\n",
    "        plt.show()\n",
    "\n",
    "\n",
    "# plot_simultaneous_equations_2x2_general(\n",
    "#     ys=[\n",
    "#         lambda x, k: (5+x)/(3*k-1),\n",
    "#         lambda x, k: (((k+1)*x)+11)/4],\n",
    "#     ks = [-(5/3), 1],\n",
    "# )\n",
    "\n",
    "# plot_simultaneous_equations_2x2_general(\n",
    "#     ys=[\n",
    "#         lambda x, k: ((7 - (3*k - 1)*x)/k),\n",
    "#         lambda x, k: ((-2*x + 3*k)/k)],\n",
    "#     ks=[1],\n",
    "# )\n",
    "\n",
    "# plot_simultaneous_equations_2x2_general(\n",
    "#     ys=[\n",
    "#         lambda x, k: (15 - k*x)/(-(2*k - 4)),\n",
    "#         lambda x, k: (9 -(k + 1)*x)/(-2*k)],\n",
    "#     ks=[-2],\n",
    "# )\n"
   ]
  },
  {
   "cell_type": "markdown",
   "metadata": {},
   "source": [
    "# 11.4 Solving simultaneous equations in three unknowns\n"
   ]
  },
  {
   "cell_type": "markdown",
   "metadata": {},
   "source": [
    "## Exercise 4\n"
   ]
  },
  {
   "cell_type": "code",
   "execution_count": null,
   "metadata": {},
   "outputs": [],
   "source": [
    "def solve_matrix_3x3(input_matrix, input_vector):\n",
    "    \"\"\"...\"\"\"\n",
    "    m = input_matrix.copy()\n",
    "    v = input_vector.copy()    \n",
    "    # Step 1: calculate determinant\n",
    "    sub_det_1 = ((m[1][1]*m[2][2]) - (m[1][2]*m[2][1]))*m[0][0]\n",
    "    sub_det_2 = ((m[1][0]*m[2][2]) - (m[2][0]*m[1][2]))*-m[0][1]\n",
    "    sub_det_3 = ((m[1][0]*m[2][1]) - (m[1][1]*m[2][0]))*m[0][2]\n",
    "    det = sub_det_1 + sub_det_2 + sub_det_3\n",
    "    # Step 2: transpose matrix\n",
    "    t_m = np.array(\n",
    "        [[m[0][0], m[1][0], m[2][0]],\n",
    "         [m[0][1], m[1][1], m[2][1]],\n",
    "         [m[0][2], m[1][2], m[2][2]]])\n",
    "    # Step 3: calculate inverse\n",
    "    sub_inv_1 = ((t_m[1][1]*t_m[2][2]) - (t_m[1][2]*t_m[2][1]))\n",
    "    sub_inv_2 = ((t_m[1][0]*t_m[2][2]) - (t_m[2][0]*t_m[1][2]))*-1\n",
    "    sub_inv_3 = ((t_m[1][0]*t_m[2][1]) - (t_m[1][1]*t_m[2][0]))\n",
    "    sub_inv_4 = ((t_m[0][1]*t_m[2][2]) - (t_m[0][2]*t_m[2][1]))*-1\n",
    "    sub_inv_5 = ((t_m[0][0]*t_m[2][2]) - (t_m[2][0]*t_m[0][2]))\n",
    "    sub_inv_6 = ((t_m[0][0]*t_m[2][1]) - (t_m[2][0]*t_m[0][1]))*-1\n",
    "    sub_inv_7 = ((t_m[0][1]*t_m[1][2]) - (t_m[1][1]*t_m[0][2]))\n",
    "    sub_inv_8 = ((t_m[0][0]*t_m[1][2]) - (t_m[1][0]*t_m[0][2]))*-1\n",
    "    sub_inv_9 = ((t_m[0][0]*t_m[1][1]) - (t_m[1][0]*t_m[0][1]))\n",
    "    # Step 4: multiply inverse with vector\n",
    "    solution_v = np.array(\n",
    "        [[sub_inv_1*v[0][0] + sub_inv_2*v[0][1] + sub_inv_3*v[0][2]],\n",
    "         [sub_inv_4*v[0][0] + sub_inv_5*v[0][1] + sub_inv_6*v[0][2]],\n",
    "         [sub_inv_7*v[0][0] + sub_inv_8*v[0][1] + sub_inv_9*v[0][2]]])\n",
    "    # Step 5: check whether unique, no or infinite soluions\n",
    "    if det == 0:\n",
    "        if np.linalg.norm(solution_v) == 0:\n",
    "            print(\"The determinant equals 0: infinite solutions\")\n",
    "            print(solution_v)\n",
    "        else:\n",
    "            print(\"The determinant equals 0: no solution\")\n",
    "            print(solution_v)\n",
    "        return 0\n",
    "    else:\n",
    "        print(\"The determinant equals {}: unique solution\".format(det))\n",
    "    # Step 6: divide by determinant\n",
    "    output_m = np.array(\n",
    "        [[Fraction(sub_inv_1, det), Fraction(sub_inv_2, det), Fraction(sub_inv_3, det)],\n",
    "         [Fraction(sub_inv_4, det), Fraction(sub_inv_5, det), Fraction(sub_inv_6, det)],\n",
    "         [Fraction(sub_inv_7, det), Fraction(sub_inv_8, det), Fraction(sub_inv_9, det)]]\n",
    "    )\n",
    "    output_v = np.array([\n",
    "        [Fraction(solution_v[0][0], det)],\n",
    "        [Fraction(solution_v[1][0], det)],\n",
    "        [Fraction(solution_v[2][0], det)]])\n",
    "    # print unique solution\n",
    "    print(\"The inverse matrix:\")\n",
    "    for row in output_m:\n",
    "        print(\"[\\t{}\\t{}\\t{}\\t]\".format(row[0], row[1], row[2]))\n",
    "    print(\"The solution vector:\")\n",
    "    for row in output_v:\n",
    "        print(\"[\\t{}\\t]\".format(row[0]))\n",
    "    return output_m, output_v\n",
    "\n"
   ]
  },
  {
   "cell_type": "code",
   "execution_count": null,
   "metadata": {},
   "outputs": [],
   "source": [
    "#8a infinite solutions\n",
    "solve_matrix_3x3(\n",
    "    input_matrix=np.array([[2, 1, -2],[1, 3, -2],[1, 8, -4]]),\n",
    "    input_vector=np.array([[4, 7, 17]]),\n",
    ")\n",
    "\n",
    "#8b unique solution\n",
    "solve_matrix_3x3(\n",
    "    input_matrix=np.array([[3, 5, -2],[1, 7, 4],[3, -3, 2]]),\n",
    "    input_vector=np.array([[2, 1, -2]]),\n",
    ")\n",
    "\n",
    "#8c no solution\n",
    "solve_matrix_3x3(\n",
    "    input_matrix=np.array([[1, 4, -1],[-1, 7, 0],[3, 1, -2]]),\n",
    "    input_vector=np.array([[4, 10, 7]]),\n",
    ")\n",
    "\n",
    "#8d no solution\n",
    "solve_matrix_3x3(\n",
    "    input_matrix=np.array([[3, 1, -2],[1, 1, 1],[1, 3, 6]]),\n",
    "    input_vector=np.array([[4, 4, 10]]),\n",
    ")\n",
    "\n",
    "#8e infinite solutions\n",
    "solve_matrix_3x3(\n",
    "    input_matrix=np.array([[1, -1, 5],[2, 1, -1],[0, 3, -11]]),\n",
    "    input_vector=np.array([[4, 8, 0]]),\n",
    ")\n"
   ]
  },
  {
   "cell_type": "code",
   "execution_count": null,
   "metadata": {},
   "outputs": [],
   "source": []
  }
 ],
 "metadata": {
  "kernelspec": {
   "display_name": "Python 3.10.6 ('cracking-the-coding-interview-Z6NRNZbg-py3.10')",
   "language": "python",
   "name": "python3"
  },
  "language_info": {
   "codemirror_mode": {
    "name": "ipython",
    "version": 3
   },
   "file_extension": ".py",
   "mimetype": "text/x-python",
   "name": "python",
   "nbconvert_exporter": "python",
   "pygments_lexer": "ipython3",
   "version": "3.10.6"
  },
  "vscode": {
   "interpreter": {
    "hash": "715491fab17afe76f425f629e31e7871de08c5bc082e33ee3db84cef1837bb0e"
   }
  }
 },
 "nbformat": 4,
 "nbformat_minor": 4
}

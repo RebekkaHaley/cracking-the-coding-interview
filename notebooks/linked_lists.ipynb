{
 "cells": [
  {
   "cell_type": "markdown",
   "metadata": {},
   "source": [
    "# Cracking the Coding Interview\n",
    "\n",
    "## Chapter IX: Interview Questions\n",
    "\n",
    "### 2. Linked Lists\n"
   ]
  },
  {
   "cell_type": "code",
   "execution_count": null,
   "metadata": {},
   "outputs": [],
   "source": [
    "# Libraries\n",
    "\n",
    "# Scripts\n",
    "from ctci.linked_lists import SinglyLinkedList\n"
   ]
  },
  {
   "cell_type": "code",
   "execution_count": null,
   "metadata": {},
   "outputs": [],
   "source": [
    "# Singly Linked List\n",
    "l_list = SinglyLinkedList()\n",
    "l_list.insert(data=10)\n",
    "l_list.insert(data=11)\n",
    "l_list.insert(data=12)\n",
    "\n",
    "l_list.print_list()\n",
    "l_list.visualise()\n"
   ]
  },
  {
   "cell_type": "code",
   "execution_count": null,
   "metadata": {},
   "outputs": [],
   "source": []
  }
 ],
 "metadata": {
  "kernelspec": {
   "display_name": "Python 3.10.8 ('.venv': poetry)",
   "language": "python",
   "name": "python3"
  },
  "language_info": {
   "codemirror_mode": {
    "name": "ipython",
    "version": 3
   },
   "file_extension": ".py",
   "mimetype": "text/x-python",
   "name": "python",
   "nbconvert_exporter": "python",
   "pygments_lexer": "ipython3",
   "version": "3.10.8"
  },
  "orig_nbformat": 4,
  "vscode": {
   "interpreter": {
    "hash": "faa6a78dc30657edf76cf3e1b8960c09d5447022e0a91451824232d14530d5ef"
   }
  }
 },
 "nbformat": 4,
 "nbformat_minor": 2
}

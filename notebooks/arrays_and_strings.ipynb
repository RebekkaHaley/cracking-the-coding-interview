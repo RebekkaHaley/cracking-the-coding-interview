{
 "cells": [
  {
   "cell_type": "markdown",
   "metadata": {},
   "source": [
    "# Cracking the Coding Interview\n",
    "\n",
    "## Chapter IX: Interview Questions\n"
   ]
  },
  {
   "cell_type": "code",
   "execution_count": null,
   "metadata": {},
   "outputs": [],
   "source": [
    "# Libraries\n",
    "\n",
    "# Scripts\n",
    "from ctci.arrays_and_strings import (is_unique, check_permutation, urlify, one_away)\n"
   ]
  },
  {
   "cell_type": "markdown",
   "metadata": {},
   "source": [
    "### 1. Arrays and Strings\n",
    "\n",
    "The book treats questions on arrays and strings as interchangeable.\n",
    "\n",
    "##### Hash Tables\n",
    "- A hash table maps keys to values for highly efficient lookup.\n",
    "- A simple implementation is to use an array of linked lists and a hash code function.\n",
    "    - To insert a key and value we:\n",
    "    1. Compute the key's hash code, which is usually an `int`. Two keys may have the same hash code, since there are infinite keys but finite `int`.\n",
    "    2. Map the hash code to an index in the array. It is possible for two different hash codes to be mapped to the same index.\n",
    "    3. At the index, there is a linked list of keys and values. Store the key-value pair here. Linked lists are used due to possible collisions: two different keys with same hash code, or two different hash codes mapping to same index.\n",
    "- If the number of collisions is ***low*** then the runtime is $O(1)$.\n",
    "- If the number of collisions is ***high*** then the worst case runtime is $O(N)$, where $N$ is the number of keys.\n",
    "- Another implementation is to use a lookup system with a balanced binary search tree. This gives a runtime of $O(\\log N)$. This also uses less storage space.\n",
    "- E.g., Python's `dict`.\n",
    "\n",
    "##### ArrayList & Resizable Arrays\n",
    "- An automatically resizable array is also known as a `list` or an `ArrayList`.\n",
    "- A `list` can grow as you append items, whereas the size of an `array` cannot be changed (e.g., like in Java).\n",
    "- A `list` allows resizing while maintaining a lookup runtime of $O(1)$.\n",
    "- A typical implementation is that the `list` will double in size (or increase by another value) when full.\n",
    "- Resizing takes a runtime of $O(N)$. However, it happens so rarely that the amortized insertion runtime remains $O(1)$.\n",
    "- E.g., Python's `list`.\n",
    "\n",
    "##### StringBuilder\n",
    "- `StringBuilder` is used to avoid a runtime of $O(xn^2)$ when concatenating a list of strings.\n",
    "- `StringBuilder` creates a resizable array of all the strings, and copies them back to a string only when necessary.\n"
   ]
  },
  {
   "cell_type": "code",
   "execution_count": null,
   "metadata": {},
   "outputs": [],
   "source": [
    "# Question 1.1\n",
    "\n",
    "display(\n",
    "    is_unique(string='hello'),\n",
    "    is_unique(string='helo'))\n"
   ]
  },
  {
   "cell_type": "code",
   "execution_count": null,
   "metadata": {},
   "outputs": [],
   "source": [
    "# Question 1.2\n",
    "\n",
    "display(\n",
    "    check_permutation(string='listen', target='silent'),\n",
    "    check_permutation(string='foo', target='bar'))\n"
   ]
  },
  {
   "cell_type": "code",
   "execution_count": null,
   "metadata": {},
   "outputs": [],
   "source": [
    "# Question 1.3\n",
    "\n",
    "display(\n",
    "    urlify(string='Mr John Smith', true_len=13),\n",
    "    urlify(string='Mr John Smith     ', true_len=13))\n"
   ]
  },
  {
   "cell_type": "code",
   "execution_count": null,
   "metadata": {},
   "outputs": [],
   "source": [
    "# Question 1.5\n",
    "\n",
    "display(\n",
    "    one_away(before='pale', after='ple'),  # True\n",
    "    one_away(before='pale', after='pales'),  # True\n",
    "    one_away(before='pale', after='bale'),  # True\n",
    "    one_away(before='pale', after='paless'),  # False\n",
    ")\n"
   ]
  },
  {
   "cell_type": "code",
   "execution_count": null,
   "metadata": {},
   "outputs": [],
   "source": []
  }
 ],
 "metadata": {
  "kernelspec": {
   "display_name": "Python 3.10.8 ('.venv': poetry)",
   "language": "python",
   "name": "python3"
  },
  "language_info": {
   "codemirror_mode": {
    "name": "ipython",
    "version": 3
   },
   "file_extension": ".py",
   "mimetype": "text/x-python",
   "name": "python",
   "nbconvert_exporter": "python",
   "pygments_lexer": "ipython3",
   "version": "3.10.8"
  },
  "vscode": {
   "interpreter": {
    "hash": "faa6a78dc30657edf76cf3e1b8960c09d5447022e0a91451824232d14530d5ef"
   }
  }
 },
 "nbformat": 4,
 "nbformat_minor": 2
}
